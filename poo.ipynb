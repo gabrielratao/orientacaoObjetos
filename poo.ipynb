{
 "cells": [
  {
   "cell_type": "code",
   "execution_count": 38,
   "metadata": {},
   "outputs": [
    {
     "name": "stdout",
     "output_type": "stream",
     "text": [
      "Conta de Gabriel numero 0\n"
     ]
    }
   ],
   "source": [
    "class ContaBancaria():\n",
    "    #CONSTRUTOR\n",
    "    def __init__(self, nome, cpf, email, telefone, numConta):\n",
    "\n",
    "        #ATRIBUTOS\n",
    "        self.nome = nome\n",
    "        self.cpf = cpf\n",
    "        self.email = email\n",
    "        self.telefone = telefone\n",
    "        self.numConta = numConta\n",
    "        self.saldo = 0\n",
    "\n",
    "    #MÉTODOS\n",
    "    def getName(self):\n",
    "        return self.nome\n",
    "    \n",
    "    def getCPF(self):\n",
    "        return self.cpf\n",
    "\n",
    "    def getEmail(self):\n",
    "        return self.email\n",
    "    \n",
    "    def getTelefone(self):\n",
    "        return self.telefone\n",
    "    \n",
    "    def getNumConta(self):\n",
    "        return self.numConta\n",
    "    \n",
    "    def getSaldo(self):\n",
    "        return self.saldo\n",
    "\n",
    "    def setName(self, nome):\n",
    "        self.nome = nome\n",
    "    \n",
    "    def setEmail(self, email):\n",
    "        self.email = email\n",
    "\n",
    "    def depositar(self, valor):\n",
    "        self.saldo = self.saldo + valor\n",
    "    \n",
    "    def sacar(self, valor):\n",
    "        if valor > self.saldo:\n",
    "            print('Saldo insuficiente')\n",
    "            return False\n",
    "        else:\n",
    "            self.saldo = self.saldo - valor\n",
    "            print(f'Saque realizado com sucesso\\nNovo saldo: {self.saldo}')\n",
    "            return True\n",
    "        \n",
    "    def transferir(self, valor, conta):\n",
    "        if valor < self.saldo:\n",
    "            conta.depositar(valor)\n",
    "            print('Transferência realizada com sucesso')\n",
    "            return True\n",
    "        else:\n",
    "            print('Saldo insuficiente')\n",
    "            return False\n",
    "        \n",
    "    def __str__(self):\n",
    "        return f'Conta de {self.nome} numero {self.numConta}'\n",
    "\n",
    "\n",
    "conta1 = ContaBancaria(nome='Gabriel', cpf=123, email='gabi@gmail', telefone=456, numConta=0)\n",
    "conta2 = ContaBancaria(nome='José', cpf=456, email='jose@gmail', telefone=789, numConta=1)\n",
    "# print(conta1.saldo)\n",
    "# conta1.getName()\n",
    "\n",
    "print(conta1)\n",
    "# conta1.setEmail('joao@joao')\n",
    "# print(conta1.getEmail())\n",
    "\n",
    "\n",
    "# print(conta1.getSaldo())\n",
    "# conta1.depositar(300)\n",
    "# print(conta1.getSaldo())\n",
    "# print('saldos conta 2')\n",
    "# print(conta2.getSaldo())\n",
    "# conta1.transferir(200, conta2)\n",
    "# print(conta1.getSaldo())"
   ]
  },
  {
   "cell_type": "code",
   "execution_count": null,
   "metadata": {},
   "outputs": [],
   "source": []
  }
 ],
 "metadata": {
  "kernelspec": {
   "display_name": "Python 3",
   "language": "python",
   "name": "python3"
  },
  "language_info": {
   "codemirror_mode": {
    "name": "ipython",
    "version": 3
   },
   "file_extension": ".py",
   "mimetype": "text/x-python",
   "name": "python",
   "nbconvert_exporter": "python",
   "pygments_lexer": "ipython3",
   "version": "3.8.3"
  }
 },
 "nbformat": 4,
 "nbformat_minor": 2
}
